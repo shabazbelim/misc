{
 "cells": [
  {
   "cell_type": "code",
   "execution_count": 252,
   "id": "452bf388",
   "metadata": {},
   "outputs": [],
   "source": [
    "import pandas as pd\n",
    "import numpy as np\n",
    "from tqdm import tqdm\n",
    "import matplotlib.pyplot as plt\n",
    "import datetime\n",
    "from sklearn.model_selection import train_test_split\n",
    "from dateutil.relativedelta import relativedelta\n",
    "from sklearn import linear_model, metrics\n",
    "from sklearn.pipeline import Pipeline\n",
    "from sklearn.model_selection import GridSearchCV\n",
    "from sklearn.preprocessing import StandardScaler\n",
    "from sklearn.metrics import precision_score, recall_score\n",
    "from sklearn.cluster import KMeans\n",
    "\n",
    "import warnings\n",
    "warnings.simplefilter(\"ignore\", UserWarning)"
   ]
  },
  {
   "cell_type": "code",
   "execution_count": 60,
   "id": "1e8195a2",
   "metadata": {},
   "outputs": [],
   "source": [
    "data = pd.read_csv('assignment.csv')\n",
    "data = data.sort_values(by=['timestamp'], ascending=False)\n",
    "data['date'] = data['timestamp'].astype('datetime64[D]')"
   ]
  },
  {
   "cell_type": "code",
   "execution_count": null,
   "id": "cedd507b",
   "metadata": {},
   "outputs": [],
   "source": []
  },
  {
   "cell_type": "code",
   "execution_count": 10,
   "id": "4189e1ff",
   "metadata": {},
   "outputs": [],
   "source": [
    "groupdata = data.groupby('user_id').agg({'purchase_value':'sum', 'timestamp':'count'}).reset_index()\n",
    "groupdata = groupdata.rename(columns={'timestamp':'count'})\n",
    "groupdata = groupdata.sort_values(by=['count'], ascending=False)"
   ]
  },
  {
   "cell_type": "markdown",
   "id": "5d05e5f6",
   "metadata": {},
   "source": [
    "## Defining Churn\n",
    "\n",
    "##### Since we don't have a variable named \"churn\", we have to define it based on the data"
   ]
  },
  {
   "cell_type": "code",
   "execution_count": 269,
   "id": "aeb6c588",
   "metadata": {},
   "outputs": [
    {
     "data": {
      "image/png": "[encoded data removed]",
      "text/plain": [
       "<Figure size 1080x360 with 1 Axes>"
      ]
     },
     "metadata": {
      "needs_background": "light"
     },
     "output_type": "display_data"
    }
   ],
   "source": [
    "groupdata[['count']].hist(figsize=(15,5))\n",
    "plt.title('Total number of transactions on the platform')\n",
    "plt.xlabel('Total number of transactions')\n",
    "plt.ylabel('User count')\n",
    "plt.show()"
   ]
  },
  {
   "cell_type": "code",
   "execution_count": 268,
   "id": "689af22c",
   "metadata": {},
   "outputs": [
    {
     "data": {
      "image/png": "[encoded data removed]",
      "text/plain": [
       "<Figure size 1080x360 with 1 Axes>"
      ]
     },
     "metadata": {
      "needs_background": "light"
     },
     "output_type": "display_data"
    }
   ],
   "source": [
    "_groupdata = groupdata[groupdata['count']<10]\n",
    "_groupdata[['count']].hist(figsize=(15,5))\n",
    "plt.title('Total number of transactions on the platform')\n",
    "plt.xlabel('Total number of transactions')\n",
    "plt.ylabel('User count')\n",
    "plt.show()"
   ]
  },
  {
   "cell_type": "code",
   "execution_count": 25,
   "id": "46e4ac54",
   "metadata": {},
   "outputs": [
    {
     "name": "stdout",
     "output_type": "stream",
     "text": [
      "ModeResult(mode=array([[1]]), count=array([[6579]]))\n"
     ]
    }
   ],
   "source": [
    "from scipy import stats as st\n",
    "\n",
    "print(st.mode(groupdata[['count']]))\n",
    "\n",
    "# mode is 1 which implies that majority of user just do one transaction on the platform"
   ]
  },
  {
   "cell_type": "markdown",
   "id": "1fa08002",
   "metadata": {},
   "source": [
    "### mode is 1 which implies that majority of user just do one transaction on the platform"
   ]
  },
  {
   "cell_type": "code",
   "execution_count": 64,
   "id": "f84152f3",
   "metadata": {},
   "outputs": [
    {
     "name": "stderr",
     "output_type": "stream",
     "text": [
      "100%|█████████████████████████████████████████████████████████████████████████████████████████████████████████████████| 23583/23583 [07:59<00:00, 49.20it/s]\n"
     ]
    }
   ],
   "source": [
    "data['diff'] = 0\n",
    "for user in tqdm(data['user_id'].unique()):\n",
    "    temp = data[data['user_id']==user]\n",
    "    if temp.shape[0]>1:\n",
    "        data.loc[data['user_id']==user, 'diff'] = (temp['date'] - temp['date'].shift(-1)).dt.days\n",
    "    "
   ]
  },
  {
   "cell_type": "code",
   "execution_count": 78,
   "id": "665e802d",
   "metadata": {},
   "outputs": [
    {
     "name": "stderr",
     "output_type": "stream",
     "text": [
      "100%|███████████████████████████████████████████████████████████████████████████████████████████████████████████████████| 116/116 [00:00<00:00, 2849.11it/s]\n"
     ]
    }
   ],
   "source": [
    "# data.to_csv('checkpoit.csv')\n",
    "inactivation_days = {}\n",
    "\n",
    "temp = data[data['diff']>1]\n",
    "for i in tqdm(temp['diff'].unique()):\n",
    "    inactivation_days[int(i-1)] = temp[temp['diff']==i].shape[0]"
   ]
  },
  {
   "cell_type": "code",
   "execution_count": 79,
   "id": "4323b183",
   "metadata": {},
   "outputs": [
    {
     "data": {
      "text/plain": [
       "{6: 6016,\n",
       " 1: 25284,\n",
       " 8: 3611,\n",
       " 2: 17418,\n",
       " 3: 12406,\n",
       " 4: 9057,\n",
       " 19: 1037,\n",
       " 17: 1215,\n",
       " 13: 2012,\n",
       " 57: 86,\n",
       " 5: 7265,\n",
       " 10: 2621,\n",
       " 20: 1057,\n",
       " 9: 2970,\n",
       " 23: 667,\n",
       " 40: 194,\n",
       " 35: 276,\n",
       " 7: 4627,\n",
       " 24: 667,\n",
       " 11: 2304,\n",
       " 16: 1335,\n",
       " 12: 2034,\n",
       " 27: 562,\n",
       " 45: 126,\n",
       " 21: 899,\n",
       " 54: 103,\n",
       " 25: 587,\n",
       " 107: 3,\n",
       " 14: 1691,\n",
       " 41: 222,\n",
       " 47: 132,\n",
       " 29: 414,\n",
       " 38: 234,\n",
       " 80: 23,\n",
       " 106: 5,\n",
       " 28: 471,\n",
       " 77: 32,\n",
       " 48: 153,\n",
       " 15: 1542,\n",
       " 32: 337,\n",
       " 90: 14,\n",
       " 22: 715,\n",
       " 31: 357,\n",
       " 18: 1081,\n",
       " 34: 318,\n",
       " 55: 98,\n",
       " 37: 244,\n",
       " 26: 555,\n",
       " 119: 1,\n",
       " 52: 92,\n",
       " 44: 160,\n",
       " 94: 18,\n",
       " 30: 410,\n",
       " 51: 111,\n",
       " 61: 62,\n",
       " 85: 12,\n",
       " 59: 70,\n",
       " 58: 62,\n",
       " 71: 48,\n",
       " 64: 49,\n",
       " 33: 337,\n",
       " 93: 8,\n",
       " 42: 173,\n",
       " 62: 67,\n",
       " 36: 252,\n",
       " 53: 87,\n",
       " 46: 153,\n",
       " 68: 57,\n",
       " 113: 2,\n",
       " 87: 17,\n",
       " 69: 54,\n",
       " 50: 107,\n",
       " 78: 30,\n",
       " 91: 17,\n",
       " 89: 16,\n",
       " 66: 41,\n",
       " 114: 1,\n",
       " 100: 9,\n",
       " 74: 28,\n",
       " 75: 41,\n",
       " 43: 172,\n",
       " 63: 64,\n",
       " 73: 31,\n",
       " 84: 24,\n",
       " 82: 22,\n",
       " 65: 47,\n",
       " 117: 2,\n",
       " 67: 33,\n",
       " 110: 4,\n",
       " 49: 124,\n",
       " 81: 19,\n",
       " 56: 101,\n",
       " 95: 11,\n",
       " 105: 2,\n",
       " 39: 191,\n",
       " 79: 25,\n",
       " 101: 9,\n",
       " 99: 5,\n",
       " 72: 37,\n",
       " 86: 14,\n",
       " 112: 2,\n",
       " 60: 72,\n",
       " 76: 36,\n",
       " 109: 6,\n",
       " 96: 8,\n",
       " 103: 7,\n",
       " 70: 38,\n",
       " 102: 4,\n",
       " 111: 4,\n",
       " 83: 15,\n",
       " 98: 7,\n",
       " 97: 8,\n",
       " 108: 1,\n",
       " 88: 8,\n",
       " 104: 6,\n",
       " 92: 6}"
      ]
     },
     "execution_count": 79,
     "metadata": {},
     "output_type": "execute_result"
    }
   ],
   "source": [
    "inactivation_days"
   ]
  },
  {
   "cell_type": "code",
   "execution_count": 82,
   "id": "3d48ff30",
   "metadata": {},
   "outputs": [],
   "source": [
    "days = list(inactivation_days.keys())\n",
    "counts = list(inactivation_days.values())"
   ]
  },
  {
   "cell_type": "code",
   "execution_count": 88,
   "id": "0a225010",
   "metadata": {},
   "outputs": [],
   "source": [
    "dt = pd.DataFrame()\n",
    "dt['inactive_days'] = days\n",
    "dt['cases'] = counts\n",
    "\n",
    "dt = dt.sort_values(by=['inactive_days'])\n",
    "dt = dt[dt['inactive_days']<50]"
   ]
  },
  {
   "cell_type": "code",
   "execution_count": 91,
   "id": "8e93a4b0",
   "metadata": {},
   "outputs": [
    {
     "data": {
      "image/png": "[encoded data removed]",
      "text/plain": [
       "<Figure size 1440x360 with 1 Axes>"
      ]
     },
     "metadata": {
      "needs_background": "light"
     },
     "output_type": "display_data"
    }
   ],
   "source": [
    "fig = plt.figure(figsize = (20, 5))\n",
    "\n",
    "plt.bar(dt['inactive_days'], dt['cases'], color ='maroon',\n",
    "        width = 0.4)\n",
    " \n",
    "plt.xlabel(\"Continues inactive days (non-transaction)\")\n",
    "plt.ylabel(\"Number of users doing transaction\")\n",
    "plt.title(\"Number of users getting activate (transaction) on the platform after certain days of inactivation\")\n",
    "plt.show()"
   ]
  },
  {
   "cell_type": "code",
   "execution_count": 97,
   "id": "23c566d8",
   "metadata": {},
   "outputs": [],
   "source": [
    "total_transaction = dt['cases'].sum()\n",
    "dt['cumulative_freq'] = dt['cases'].cumsum()\n",
    "dt['cumulative_freq'] = dt['cumulative_freq']/total_transaction"
   ]
  },
  {
   "cell_type": "code",
   "execution_count": 101,
   "id": "4b993f4d",
   "metadata": {},
   "outputs": [
    {
     "data": {
      "image/png": "[encoded data removed]",
      "text/plain": [
       "<Figure size 1440x360 with 1 Axes>"
      ]
     },
     "metadata": {
      "needs_background": "light"
     },
     "output_type": "display_data"
    }
   ],
   "source": [
    "fig = plt.figure(figsize = (20, 5))\n",
    "\n",
    "plt.bar(dt['inactive_days'], dt['cumulative_freq'], color ='maroon',\n",
    "        width = 0.4)\n",
    " \n",
    "plt.xlabel(\"Continues inactive days (non-transaction)\")\n",
    "plt.ylabel(\"True negative cases (not churning)\")\n",
    "plt.title(\"Continues inactive days vs true negative cases (not churning)\")\n",
    "plt.show()"
   ]
  },
  {
   "cell_type": "markdown",
   "id": "75699d53",
   "metadata": {},
   "source": [
    "### If we choose 30 days of continuous inactivation as a definition of churn, then we can cover >96% of true negative cases and there are only <4% chances of false negative cases"
   ]
  },
  {
   "cell_type": "markdown",
   "id": "f8786f37",
   "metadata": {},
   "source": [
    "### according to the above analysis:\n",
    "    - if user is inactive on the platform for more than 30 days = churn\n",
    "    - else user is = not churn"
   ]
  },
  {
   "cell_type": "markdown",
   "id": "9dc622d1",
   "metadata": {},
   "source": [
    "## Data Preparation"
   ]
  },
  {
   "cell_type": "code",
   "execution_count": 110,
   "id": "ac43254f",
   "metadata": {},
   "outputs": [
    {
     "data": {
      "text/plain": [
       "Timestamp('2022-12-14 00:00:00')"
      ]
     },
     "execution_count": 110,
     "metadata": {},
     "output_type": "execute_result"
    }
   ],
   "source": [
    "data['date'].max()"
   ]
  },
  {
   "cell_type": "code",
   "execution_count": 142,
   "id": "98619653",
   "metadata": {},
   "outputs": [],
   "source": [
    "dt = data.groupby('user_id').agg({'date':'max'}).reset_index()\n",
    "\n",
    "dt['recency'] = (datetime.datetime(2022, 12, 14) - dt['date']).dt.days\n",
    "\n",
    "dt['churn'] = 0\n",
    "dt.loc[dt['recency']<=30, 'churn'] = 0\n",
    "dt.loc[dt['recency']>30, 'churn'] = 1"
   ]
  },
  {
   "cell_type": "code",
   "execution_count": 143,
   "id": "31276318",
   "metadata": {},
   "outputs": [
    {
     "data": {
      "image/png": "[encoded data removed]",
      "text/plain": [
       "<Figure size 576x360 with 1 Axes>"
      ]
     },
     "metadata": {
      "needs_background": "light"
     },
     "output_type": "display_data"
    }
   ],
   "source": [
    "fig = plt.figure(figsize = (8, 5))\n",
    "\n",
    "plt.bar(['churn', 'not-churn'], [9561, 14022], color ='maroon',\n",
    "        width = 0.4)\n",
    " \n",
    "plt.xlabel(\"churn/not-churn\")\n",
    "plt.ylabel(\"Number of users\")\n",
    "plt.title(\"Distribution of churn vs not-churn\")\n",
    "plt.show()"
   ]
  },
  {
   "cell_type": "code",
   "execution_count": 175,
   "id": "b7dbde5b",
   "metadata": {},
   "outputs": [],
   "source": [
    "last_week = datetime.datetime(2022, 12, 14) - relativedelta(days=7)\n",
    "last_week_2nd = last_week - relativedelta(days=7)\n",
    "last_week_3rd = last_to_last_week - relativedelta(days=7)\n",
    "\n",
    "def get_features_timebasis(data, dt, time, string):\n",
    "    temp = data[data['date'] >= time]\n",
    "    temp = temp.groupby('user_id').agg({'purchase_value':'sum', 'date':'count'}).reset_index()\n",
    "    temp = temp.rename(columns={'date':'count_{}'.format(string), 'purchase_value':'purchase_value_{}'.format(string)})\n",
    "\n",
    "    dt = dt.merge(temp, on=['user_id'], how='left')\n",
    "    \n",
    "    return dt\n",
    "\n",
    "\n",
    "for item in [[last_week, 'last_week'], [last_week_2nd, 'last_week_2nd'], [last_week_3rd, 'last_week_3rd']]:\n",
    "    dt = get_features_timebasis(data, dt, item[0], item[1])"
   ]
  },
  {
   "cell_type": "code",
   "execution_count": 185,
   "id": "9ffb41ff",
   "metadata": {},
   "outputs": [
    {
     "data": {
      "text/html": [
       "<div>\n",
       "<style scoped>\n",
       "    .dataframe tbody tr th:only-of-type {\n",
       "        vertical-align: middle;\n",
       "    }\n",
       "\n",
       "    .dataframe tbody tr th {\n",
       "        vertical-align: top;\n",
       "    }\n",
       "\n",
       "    .dataframe thead th {\n",
       "        text-align: right;\n",
       "    }\n",
       "</style>\n",
       "<table border=\"1\" class=\"dataframe\">\n",
       "  <thead>\n",
       "    <tr style=\"text-align: right;\">\n",
       "      <th></th>\n",
       "      <th>user_id</th>\n",
       "      <th>date</th>\n",
       "      <th>recency</th>\n",
       "      <th>churn</th>\n",
       "      <th>purchase_value_last_week</th>\n",
       "      <th>count_last_week</th>\n",
       "      <th>purchase_value_last_week_2nd</th>\n",
       "      <th>count_last_week_2nd</th>\n",
       "      <th>purchase_value_last_week_3rd</th>\n",
       "      <th>count_last_week_3rd</th>\n",
       "    </tr>\n",
       "  </thead>\n",
       "  <tbody>\n",
       "    <tr>\n",
       "      <th>0</th>\n",
       "      <td>0000602f168960c53835096f2daad506a80fcef2b4b13a...</td>\n",
       "      <td>2022-11-18</td>\n",
       "      <td>26</td>\n",
       "      <td>0</td>\n",
       "      <td>0.0</td>\n",
       "      <td>0.0</td>\n",
       "      <td>0.0</td>\n",
       "      <td>0.0</td>\n",
       "      <td>0.0</td>\n",
       "      <td>0.0</td>\n",
       "    </tr>\n",
       "    <tr>\n",
       "      <th>1</th>\n",
       "      <td>0001b82c569a333a80c48f2004827e4a8e5be5840fbd9b...</td>\n",
       "      <td>2022-09-14</td>\n",
       "      <td>91</td>\n",
       "      <td>1</td>\n",
       "      <td>0.0</td>\n",
       "      <td>0.0</td>\n",
       "      <td>0.0</td>\n",
       "      <td>0.0</td>\n",
       "      <td>0.0</td>\n",
       "      <td>0.0</td>\n",
       "    </tr>\n",
       "    <tr>\n",
       "      <th>2</th>\n",
       "      <td>000700164cee77c05439c206a588b66fe734150ede585f...</td>\n",
       "      <td>2022-12-13</td>\n",
       "      <td>1</td>\n",
       "      <td>0</td>\n",
       "      <td>362.0</td>\n",
       "      <td>3.0</td>\n",
       "      <td>362.0</td>\n",
       "      <td>3.0</td>\n",
       "      <td>544.0</td>\n",
       "      <td>4.0</td>\n",
       "    </tr>\n",
       "    <tr>\n",
       "      <th>3</th>\n",
       "      <td>000a4c3acfbf3baf967560f71cd0d1dd87957cfd7c027f...</td>\n",
       "      <td>2022-11-19</td>\n",
       "      <td>25</td>\n",
       "      <td>0</td>\n",
       "      <td>0.0</td>\n",
       "      <td>0.0</td>\n",
       "      <td>0.0</td>\n",
       "      <td>0.0</td>\n",
       "      <td>0.0</td>\n",
       "      <td>0.0</td>\n",
       "    </tr>\n",
       "    <tr>\n",
       "      <th>4</th>\n",
       "      <td>001481e9e6ea150295c6e7664c9eb824dc2393ede3a88d...</td>\n",
       "      <td>2022-12-06</td>\n",
       "      <td>8</td>\n",
       "      <td>0</td>\n",
       "      <td>0.0</td>\n",
       "      <td>0.0</td>\n",
       "      <td>155.0</td>\n",
       "      <td>1.0</td>\n",
       "      <td>155.0</td>\n",
       "      <td>1.0</td>\n",
       "    </tr>\n",
       "  </tbody>\n",
       "</table>\n",
       "</div>"
      ],
      "text/plain": [
       "                                             user_id       date  recency  \\\n",
       "0  0000602f168960c53835096f2daad506a80fcef2b4b13a... 2022-11-18       26   \n",
       "1  0001b82c569a333a80c48f2004827e4a8e5be5840fbd9b... 2022-09-14       91   \n",
       "2  000700164cee77c05439c206a588b66fe734150ede585f... 2022-12-13        1   \n",
       "3  000a4c3acfbf3baf967560f71cd0d1dd87957cfd7c027f... 2022-11-19       25   \n",
       "4  001481e9e6ea150295c6e7664c9eb824dc2393ede3a88d... 2022-12-06        8   \n",
       "\n",
       "   churn  purchase_value_last_week  count_last_week  \\\n",
       "0      0                       0.0              0.0   \n",
       "1      1                       0.0              0.0   \n",
       "2      0                     362.0              3.0   \n",
       "3      0                       0.0              0.0   \n",
       "4      0                       0.0              0.0   \n",
       "\n",
       "   purchase_value_last_week_2nd  count_last_week_2nd  \\\n",
       "0                           0.0                  0.0   \n",
       "1                           0.0                  0.0   \n",
       "2                         362.0                  3.0   \n",
       "3                           0.0                  0.0   \n",
       "4                         155.0                  1.0   \n",
       "\n",
       "   purchase_value_last_week_3rd  count_last_week_3rd  \n",
       "0                           0.0                  0.0  \n",
       "1                           0.0                  0.0  \n",
       "2                         544.0                  4.0  \n",
       "3                           0.0                  0.0  \n",
       "4                         155.0                  1.0  "
      ]
     },
     "execution_count": 185,
     "metadata": {},
     "output_type": "execute_result"
    }
   ],
   "source": [
    "dt = dt.replace(np.nan, 0)\n",
    "dt.head()"
   ]
  },
  {
   "cell_type": "code",
   "execution_count": 196,
   "id": "d777c518",
   "metadata": {},
   "outputs": [],
   "source": [
    "X = dt[['recency',  'purchase_value_last_week', 'count_last_week', 'purchase_value_last_week_2nd', 'count_last_week_2nd', \n",
    "        'purchase_value_last_week_3rd', 'count_last_week_3rd']]\n",
    "y = dt[['churn']]\n",
    "\n",
    "X_train, X_test, y_train, y_test = train_test_split(X, y, test_size=0.75, random_state=0)"
   ]
  },
  {
   "cell_type": "code",
   "execution_count": 187,
   "id": "a8ebde9c",
   "metadata": {},
   "outputs": [],
   "source": [
    "std_slc = StandardScaler()\n",
    "logistic_Reg = linear_model.LogisticRegression()"
   ]
  },
  {
   "cell_type": "code",
   "execution_count": 197,
   "id": "fc265ce2",
   "metadata": {},
   "outputs": [
    {
     "data": {
      "text/plain": [
       "GridSearchCV(estimator=Pipeline(steps=[('std_slc', StandardScaler()),\n",
       "                                       ('logistic_Reg', LogisticRegression())]),\n",
       "             param_grid={'logistic_Reg__C': array([1.00000000e-04, 1.45634848e-04, 2.12095089e-04, 3.08884360e-04,\n",
       "       4.49843267e-04, 6.55128557e-04, 9.54095476e-04, 1.38949549e-03,\n",
       "       2.02358965e-03, 2.94705170e-03, 4.29193426e-03, 6.25055193e-03,\n",
       "       9.10298178e-03, 1.32571137...\n",
       "       3.72759372e+00, 5.42867544e+00, 7.90604321e+00, 1.15139540e+01,\n",
       "       1.67683294e+01, 2.44205309e+01, 3.55648031e+01, 5.17947468e+01,\n",
       "       7.54312006e+01, 1.09854114e+02, 1.59985872e+02, 2.32995181e+02,\n",
       "       3.39322177e+02, 4.94171336e+02, 7.19685673e+02, 1.04811313e+03,\n",
       "       1.52641797e+03, 2.22299648e+03, 3.23745754e+03, 4.71486636e+03,\n",
       "       6.86648845e+03, 1.00000000e+04]),\n",
       "                         'logistic_Reg__penalty': ['none', 'l2']})"
      ]
     },
     "execution_count": 197,
     "metadata": {},
     "output_type": "execute_result"
    }
   ],
   "source": [
    "pipe = Pipeline(steps=[('std_slc', std_slc),\n",
    "                        ('logistic_Reg', logistic_Reg)])\n",
    "\n",
    "C = np.logspace(-4, 4, 50)\n",
    "penalty = ['none', 'l2']\n",
    "parameters = dict(logistic_Reg__C=C,\n",
    "                  logistic_Reg__penalty=penalty)\n",
    "\n",
    "clf_GS = GridSearchCV(pipe, parameters)\n",
    "\n",
    "\n",
    "clf_GS.fit(X_train, y_train)"
   ]
  },
  {
   "cell_type": "code",
   "execution_count": 198,
   "id": "1ca165cc",
   "metadata": {},
   "outputs": [
    {
     "name": "stdout",
     "output_type": "stream",
     "text": [
      "Best Penalty: none\n",
      "Best C: 0.0001\n",
      "\n",
      "LogisticRegression(C=0.0001, penalty='none')\n"
     ]
    }
   ],
   "source": [
    "print('Best Penalty:', clf_GS.best_estimator_.get_params()['logistic_Reg__penalty'])\n",
    "print('Best C:', clf_GS.best_estimator_.get_params()['logistic_Reg__C'])\n",
    "print(); print(clf_GS.best_estimator_.get_params()['logistic_Reg'])"
   ]
  },
  {
   "cell_type": "code",
   "execution_count": 201,
   "id": "26806c39",
   "metadata": {},
   "outputs": [
    {
     "data": {
      "text/plain": [
       "array([[10515,     5],\n",
       "       [    0,  7168]])"
      ]
     },
     "execution_count": 201,
     "metadata": {},
     "output_type": "execute_result"
    }
   ],
   "source": [
    "# confusion matrix\n",
    "y_predicted = clf_GS.predict(X_test)\n",
    "metrics.confusion_matrix(y_test, y_predicted)"
   ]
  },
  {
   "cell_type": "code",
   "execution_count": 203,
   "id": "95d9df1f",
   "metadata": {},
   "outputs": [
    {
     "data": {
      "image/png": "[encoded data removed]",
      "text/plain": [
       "<Figure size 432x288 with 1 Axes>"
      ]
     },
     "metadata": {
      "needs_background": "light"
     },
     "output_type": "display_data"
    }
   ],
   "source": [
    "y_pred_proba = clf_GS.predict_proba(X_test)[::,1]\n",
    "fpr, tpr, _ = metrics.roc_curve(y_test,  y_pred_proba)\n",
    "\n",
    "#create ROC curve\n",
    "plt.plot(fpr,tpr)\n",
    "plt.ylabel('True Positive Rate')\n",
    "plt.xlabel('False Positive Rate')\n",
    "plt.show()"
   ]
  },
  {
   "cell_type": "code",
   "execution_count": 207,
   "id": "ff81b271",
   "metadata": {},
   "outputs": [
    {
     "name": "stdout",
     "output_type": "stream",
     "text": [
      "precision:  0.999\n",
      "recall:  1.0\n"
     ]
    }
   ],
   "source": [
    "print('precision: ', round(precision_score(y_test, y_predicted), 3))\n",
    "print('recall: ', round(recall_score(y_test, y_predicted), 3))"
   ]
  },
  {
   "cell_type": "markdown",
   "id": "09a2b79f",
   "metadata": {},
   "source": [
    "## Customer Segmentation\n",
    "    Using RFM - (Recency | Frequency | Monetary) framwork"
   ]
  },
  {
   "cell_type": "code",
   "execution_count": 234,
   "id": "7146514c",
   "metadata": {},
   "outputs": [
    {
     "data": {
      "text/html": [
       "<div>\n",
       "<style scoped>\n",
       "    .dataframe tbody tr th:only-of-type {\n",
       "        vertical-align: middle;\n",
       "    }\n",
       "\n",
       "    .dataframe tbody tr th {\n",
       "        vertical-align: top;\n",
       "    }\n",
       "\n",
       "    .dataframe thead th {\n",
       "        text-align: right;\n",
       "    }\n",
       "</style>\n",
       "<table border=\"1\" class=\"dataframe\">\n",
       "  <thead>\n",
       "    <tr style=\"text-align: right;\">\n",
       "      <th></th>\n",
       "      <th>user_id</th>\n",
       "      <th>date</th>\n",
       "      <th>recency</th>\n",
       "      <th>churn</th>\n",
       "      <th>purchase_value_last_week</th>\n",
       "      <th>count_last_week</th>\n",
       "      <th>purchase_value_last_week_2nd</th>\n",
       "      <th>count_last_week_2nd</th>\n",
       "      <th>purchase_value_last_week_3rd</th>\n",
       "      <th>count_last_week_3rd</th>\n",
       "      <th>frequency</th>\n",
       "      <th>monetary</th>\n",
       "    </tr>\n",
       "  </thead>\n",
       "  <tbody>\n",
       "    <tr>\n",
       "      <th>0</th>\n",
       "      <td>0000602f168960c53835096f2daad506a80fcef2b4b13a...</td>\n",
       "      <td>2022-11-18</td>\n",
       "      <td>26</td>\n",
       "      <td>0</td>\n",
       "      <td>0.0</td>\n",
       "      <td>0.0</td>\n",
       "      <td>0.0</td>\n",
       "      <td>0.0</td>\n",
       "      <td>0.0</td>\n",
       "      <td>0.0</td>\n",
       "      <td>1</td>\n",
       "      <td>132.0</td>\n",
       "    </tr>\n",
       "    <tr>\n",
       "      <th>1</th>\n",
       "      <td>0001b82c569a333a80c48f2004827e4a8e5be5840fbd9b...</td>\n",
       "      <td>2022-09-14</td>\n",
       "      <td>91</td>\n",
       "      <td>1</td>\n",
       "      <td>0.0</td>\n",
       "      <td>0.0</td>\n",
       "      <td>0.0</td>\n",
       "      <td>0.0</td>\n",
       "      <td>0.0</td>\n",
       "      <td>0.0</td>\n",
       "      <td>1</td>\n",
       "      <td>113.0</td>\n",
       "    </tr>\n",
       "    <tr>\n",
       "      <th>2</th>\n",
       "      <td>000700164cee77c05439c206a588b66fe734150ede585f...</td>\n",
       "      <td>2022-12-13</td>\n",
       "      <td>1</td>\n",
       "      <td>0</td>\n",
       "      <td>362.0</td>\n",
       "      <td>3.0</td>\n",
       "      <td>362.0</td>\n",
       "      <td>3.0</td>\n",
       "      <td>544.0</td>\n",
       "      <td>4.0</td>\n",
       "      <td>24</td>\n",
       "      <td>4727.0</td>\n",
       "    </tr>\n",
       "    <tr>\n",
       "      <th>3</th>\n",
       "      <td>000a4c3acfbf3baf967560f71cd0d1dd87957cfd7c027f...</td>\n",
       "      <td>2022-11-19</td>\n",
       "      <td>25</td>\n",
       "      <td>0</td>\n",
       "      <td>0.0</td>\n",
       "      <td>0.0</td>\n",
       "      <td>0.0</td>\n",
       "      <td>0.0</td>\n",
       "      <td>0.0</td>\n",
       "      <td>0.0</td>\n",
       "      <td>1</td>\n",
       "      <td>139.0</td>\n",
       "    </tr>\n",
       "    <tr>\n",
       "      <th>4</th>\n",
       "      <td>001481e9e6ea150295c6e7664c9eb824dc2393ede3a88d...</td>\n",
       "      <td>2022-12-06</td>\n",
       "      <td>8</td>\n",
       "      <td>0</td>\n",
       "      <td>0.0</td>\n",
       "      <td>0.0</td>\n",
       "      <td>155.0</td>\n",
       "      <td>1.0</td>\n",
       "      <td>155.0</td>\n",
       "      <td>1.0</td>\n",
       "      <td>2</td>\n",
       "      <td>482.0</td>\n",
       "    </tr>\n",
       "  </tbody>\n",
       "</table>\n",
       "</div>"
      ],
      "text/plain": [
       "                                             user_id       date  recency  \\\n",
       "0  0000602f168960c53835096f2daad506a80fcef2b4b13a... 2022-11-18       26   \n",
       "1  0001b82c569a333a80c48f2004827e4a8e5be5840fbd9b... 2022-09-14       91   \n",
       "2  000700164cee77c05439c206a588b66fe734150ede585f... 2022-12-13        1   \n",
       "3  000a4c3acfbf3baf967560f71cd0d1dd87957cfd7c027f... 2022-11-19       25   \n",
       "4  001481e9e6ea150295c6e7664c9eb824dc2393ede3a88d... 2022-12-06        8   \n",
       "\n",
       "   churn  purchase_value_last_week  count_last_week  \\\n",
       "0      0                       0.0              0.0   \n",
       "1      1                       0.0              0.0   \n",
       "2      0                     362.0              3.0   \n",
       "3      0                       0.0              0.0   \n",
       "4      0                       0.0              0.0   \n",
       "\n",
       "   purchase_value_last_week_2nd  count_last_week_2nd  \\\n",
       "0                           0.0                  0.0   \n",
       "1                           0.0                  0.0   \n",
       "2                         362.0                  3.0   \n",
       "3                           0.0                  0.0   \n",
       "4                         155.0                  1.0   \n",
       "\n",
       "   purchase_value_last_week_3rd  count_last_week_3rd  frequency  monetary  \n",
       "0                           0.0                  0.0          1     132.0  \n",
       "1                           0.0                  0.0          1     113.0  \n",
       "2                         544.0                  4.0         24    4727.0  \n",
       "3                           0.0                  0.0          1     139.0  \n",
       "4                         155.0                  1.0          2     482.0  "
      ]
     },
     "execution_count": 234,
     "metadata": {},
     "output_type": "execute_result"
    }
   ],
   "source": [
    "# Customer segmentation - RFM\n",
    "temp = data.groupby('user_id').agg({'date': 'count', 'purchase_value':'sum'}).reset_index()\n",
    "temp = temp.rename(columns={'date':'frequency', 'purchase_value':'monetary'})\n",
    "dt = dt.merge(temp, on=['user_id'], how='left')\n",
    "\n",
    "dt.head()"
   ]
  },
  {
   "cell_type": "code",
   "execution_count": 235,
   "id": "fd4430a6",
   "metadata": {},
   "outputs": [],
   "source": []
  },
  {
   "cell_type": "code",
   "execution_count": 237,
   "id": "0747d949",
   "metadata": {},
   "outputs": [
    {
     "data": {
      "text/plain": [
       "Text(0, 0.5, 'WCSS')"
      ]
     },
     "execution_count": 237,
     "metadata": {},
     "output_type": "execute_result"
    },
    {
     "data": {
      "image/png": "[encoded data removed]",
      "text/plain": [
       "<Figure size 432x288 with 1 Axes>"
      ]
     },
     "metadata": {
      "needs_background": "light"
     },
     "output_type": "display_data"
    }
   ],
   "source": [
    "wcss=[]\n",
    "for i in range(1,7):\n",
    "    kmeans = KMeans(i)\n",
    "    kmeans.fit(dt[['recency']])\n",
    "    wcss_iter = kmeans.inertia_\n",
    "    wcss.append(wcss_iter)\n",
    "\n",
    "number_clusters = range(1,7)\n",
    "plt.plot(number_clusters,wcss)\n",
    "plt.title('The Elbow title')\n",
    "plt.xlabel('Number of clusters')\n",
    "plt.ylabel('WCSS')"
   ]
  },
  {
   "cell_type": "code",
   "execution_count": 238,
   "id": "fb5d25d0",
   "metadata": {},
   "outputs": [
    {
     "data": {
      "text/plain": [
       "Text(0, 0.5, 'WCSS')"
      ]
     },
     "execution_count": 238,
     "metadata": {},
     "output_type": "execute_result"
    },
    {
     "data": {
      "image/png": "[encoded data removed]",
      "text/plain": [
       "<Figure size 432x288 with 1 Axes>"
      ]
     },
     "metadata": {
      "needs_background": "light"
     },
     "output_type": "display_data"
    }
   ],
   "source": [
    "wcss=[]\n",
    "for i in range(1,7):\n",
    "    kmeans = KMeans(i)\n",
    "    kmeans.fit(dt[['frequency']])\n",
    "    wcss_iter = kmeans.inertia_\n",
    "    wcss.append(wcss_iter)\n",
    "\n",
    "number_clusters = range(1,7)\n",
    "plt.plot(number_clusters,wcss)\n",
    "plt.title('The Elbow title')\n",
    "plt.xlabel('Number of clusters')\n",
    "plt.ylabel('WCSS')"
   ]
  },
  {
   "cell_type": "code",
   "execution_count": 239,
   "id": "2e1963dd",
   "metadata": {},
   "outputs": [
    {
     "data": {
      "text/plain": [
       "Text(0, 0.5, 'WCSS')"
      ]
     },
     "execution_count": 239,
     "metadata": {},
     "output_type": "execute_result"
    },
    {
     "data": {
      "image/png": "[encoded data removed]",
      "text/plain": [
       "<Figure size 432x288 with 1 Axes>"
      ]
     },
     "metadata": {
      "needs_background": "light"
     },
     "output_type": "display_data"
    }
   ],
   "source": [
    "wcss=[]\n",
    "for i in range(1,7):\n",
    "    kmeans = KMeans(i)\n",
    "    kmeans.fit(dt[['monetary']])\n",
    "    wcss_iter = kmeans.inertia_\n",
    "    wcss.append(wcss_iter)\n",
    "\n",
    "number_clusters = range(1,7)\n",
    "plt.plot(number_clusters,wcss)\n",
    "plt.title('The Elbow title')\n",
    "plt.xlabel('Number of clusters')\n",
    "plt.ylabel('WCSS')"
   ]
  },
  {
   "cell_type": "code",
   "execution_count": 246,
   "id": "5172f8fb",
   "metadata": {},
   "outputs": [],
   "source": [
    "def clustering(clusters, feat):\n",
    "    kmeans = KMeans(clusters)\n",
    "    kmeans.fit(dt[[feat]])\n",
    "    new_feat = '{}_cluster'.format(feat)\n",
    "    dt[new_feat] = kmeans.predict(dt[[feat]])\n",
    "    \n",
    "    return dt\n",
    "\n",
    "for item in [['recency', 5], ['frequency', 5], ['monetary', 5]]:\n",
    "    dt = clustering(item[1], item[0])"
   ]
  },
  {
   "cell_type": "code",
   "execution_count": 248,
   "id": "9e44af43",
   "metadata": {},
   "outputs": [],
   "source": [
    "dt['recency_cluster'] = dt['recency_cluster'] + 1\n",
    "dt['frequency_cluster'] = dt['frequency_cluster'] + 1\n",
    "dt['monetary_cluster'] = dt['monetary_cluster'] + 1\n",
    "\n",
    "dt['rfm_rating'] = (dt['recency_cluster']+dt['frequency_cluster']+dt['monetary_cluster'])/3\n",
    "dt['rfm_rating'] = dt['rfm_rating'].round(2)"
   ]
  },
  {
   "cell_type": "code",
   "execution_count": 251,
   "id": "0fc6b74c",
   "metadata": {},
   "outputs": [],
   "source": [
    "# Each customer is given rating on the basis of their rfm value, higher rating -> better customer"
   ]
  },
  {
   "cell_type": "code",
   "execution_count": 258,
   "id": "61db738b",
   "metadata": {},
   "outputs": [
    {
     "data": {
      "image/png": "[encoded data removed]",
      "text/plain": [
       "<Figure size 576x360 with 1 Axes>"
      ]
     },
     "metadata": {
      "needs_background": "light"
     },
     "output_type": "display_data"
    }
   ],
   "source": [
    "star_5 = dt[dt['rfm_rating'] > 4].shape[0]\n",
    "star_4 = dt[(dt['rfm_rating'] > 3) & (dt['rfm_rating'] <= 4)].shape[0]\n",
    "star_3 = dt[(dt['rfm_rating'] > 2) & (dt['rfm_rating'] <= 3)].shape[0]\n",
    "star_2 = dt[(dt['rfm_rating'] > 1) & (dt['rfm_rating'] <= 2)].shape[0]\n",
    "star_1 = dt[dt['rfm_rating'] <= 1].shape[0]\n",
    "\n",
    "fig = plt.figure(figsize = (8, 5))\n",
    "\n",
    "plt.bar(['5 star', '4 star', '3 star', '2 star', '1 star'], [star_5, star_4, star_3, star_2, star_1], color ='skyblue',\n",
    "        width = 0.4)\n",
    " \n",
    "plt.xlabel(\"rating\")\n",
    "plt.ylabel(\"Number of users\")\n",
    "plt.title(\"Distribution of rfm segment\")\n",
    "plt.show()"
   ]
  },
  {
   "cell_type": "markdown",
   "id": "dbd5fc4e",
   "metadata": {},
   "source": [
    "### Determine the customer lifetime value of the top users assuming they haven’t made any prior purchases"
   ]
  },
  {
   "cell_type": "raw",
   "id": "f8470155",
   "metadata": {},
   "source": [
    "Assumtion :\n",
    "    Top customer = rating is more than or equal to 4"
   ]
  },
  {
   "cell_type": "code",
   "execution_count": 262,
   "id": "9a4ef6a2",
   "metadata": {},
   "outputs": [
    {
     "data": {
      "text/plain": [
       "26241.553719008265"
      ]
     },
     "execution_count": 262,
     "metadata": {},
     "output_type": "execute_result"
    }
   ],
   "source": [
    "dt[dt['rfm_rating']>=4]['monetary'].mean()"
   ]
  },
  {
   "cell_type": "code",
   "execution_count": null,
   "id": "bfdfdbda",
   "metadata": {},
   "outputs": [],
   "source": []
  },
  {
   "cell_type": "code",
   "execution_count": null,
   "id": "68f6f233",
   "metadata": {},
   "outputs": [],
   "source": []
  }
 ],
 "metadata": {
  "kernelspec": {
   "display_name": "bytetrack",
   "language": "python",
   "name": "bytetrack"
  },
  "language_info": {
   "codemirror_mode": {
    "name": "ipython",
    "version": 3
   },
   "file_extension": ".py",
   "mimetype": "text/x-python",
   "name": "python",
   "nbconvert_exporter": "python",
   "pygments_lexer": "ipython3",
   "version": "3.8.12"
  }
 },
 "nbformat": 4,
 "nbformat_minor": 5
}
